{
 "cells": [
  {
   "cell_type": "code",
   "execution_count": null,
   "metadata": {},
   "outputs": [],
   "source": [
    "import tkinter as tk\n",
    "from tkinter import filedialog\n",
    "import os\n",
    "\n",
    "def upload_file(file_path):\n",
    "    # Here you would implement the code to process the uploaded file\n",
    "    # For now, let's just print the file path as a placeholder\n",
    "    print(\"Processing file:\", file_path)\n",
    "    # Add your processing code here\n",
    "\n",
    "def select_file():\n",
    "    root = tk.Tk()\n",
    "    root.withdraw()  # Hide the main window\n",
    "\n",
    "    # Ask the user to select a file\n",
    "    file_path = filedialog.askopenfilename()\n",
    "    \n",
    "    if file_path:\n",
    "        # Check if the selected file has a valid extension\n",
    "        _, file_extension = os.path.splitext(file_path)\n",
    "        allowed_extensions = ['.png', '.jpg', '.jpeg']\n",
    "        if file_extension.lower() not in allowed_extensions:\n",
    "            print(\"Error: Only PNG or JPEG files are allowed\")\n",
    "            return\n",
    "        \n",
    "        # Call the function to upload and process the file\n",
    "        upload_file(file_path)\n",
    "\n",
    "def main():\n",
    "    select_file()\n",
    "\n",
    "if __name__ == \"__main__\":\n",
    "    main()\n"
   ]
  }
 ],
 "metadata": {
  "kernelspec": {
   "display_name": "Python 3",
   "language": "python",
   "name": "python3"
  },
  "language_info": {
   "codemirror_mode": {
    "name": "ipython",
    "version": 3
   },
   "file_extension": ".py",
   "mimetype": "text/x-python",
   "name": "python",
   "nbconvert_exporter": "python",
   "pygments_lexer": "ipython3",
   "version": "3.12.1"
  }
 },
 "nbformat": 4,
 "nbformat_minor": 2
}
