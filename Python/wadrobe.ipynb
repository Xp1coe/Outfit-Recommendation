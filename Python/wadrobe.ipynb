{
 "cells": [
  {
   "cell_type": "code",
   "execution_count": null,
   "metadata": {},
   "outputs": [],
   "source": [
    "import sys\n",
    "from PyQt5.QtWidgets import QApplication, QWidget, QPushButton, QFileDialog\n",
    "import os\n",
    "\n",
    "def upload_file(file_path):\n",
    "    # Here you would implement the code to process the uploaded file\n",
    "    # For now, let's just print the file path as a placeholder\n",
    "    print(\"Processing file:\", file_path)\n",
    "    # Add your processing code here\n",
    "\n",
    "class FileUploadApp(QWidget):\n",
    "    def __init__(self):\n",
    "        super().__init__()\n",
    "\n",
    "        self.initUI()\n",
    "\n",
    "    def initUI(self):\n",
    "        self.setWindowTitle('File Upload')\n",
    "        self.setGeometry(100, 100, 300, 200)\n",
    "\n",
    "        self.btn_upload = QPushButton('Upload File', self)\n",
    "        self.btn_upload.clicked.connect(self.upload_file_dialog)\n",
    "        self.btn_upload.setGeometry(50, 50, 200, 100)\n",
    "\n",
    "    def upload_file_dialog(self):\n",
    "        file_dialog = QFileDialog()\n",
    "        file_dialog.setNameFilter(\"Images (*.png *.jpg *.jpeg)\")\n",
    "        file_dialog.setViewMode(QFileDialog.Detail)\n",
    "        file_path, _ = file_dialog.getOpenFileName(self, \"Open Image\", \"\", \"Images (*.png *.jpg *.jpeg)\")\n",
    "\n",
    "        if file_path:\n",
    "            # Call the function to upload and process the file\n",
    "            upload_file(file_path)\n",
    "\n",
    "def main():\n",
    "    app = QApplication(sys.argv)\n",
    "    ex = FileUploadApp()\n",
    "    ex.show()\n",
    "    sys.exit(app.exec_())\n",
    "\n",
    "if __name__ == \"__main__\":\n",
    "    main()\n"
   ]
  }
 ],
 "metadata": {
  "kernelspec": {
   "display_name": "Python 3",
   "language": "python",
   "name": "python3"
  },
  "language_info": {
   "codemirror_mode": {
    "name": "ipython",
    "version": 3
   },
   "file_extension": ".py",
   "mimetype": "text/x-python",
   "name": "python",
   "nbconvert_exporter": "python",
   "pygments_lexer": "ipython3",
   "version": "3.12.1"
  }
 },
 "nbformat": 4,
 "nbformat_minor": 2
}
