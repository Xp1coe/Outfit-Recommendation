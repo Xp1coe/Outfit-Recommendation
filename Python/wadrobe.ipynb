{
 "cells": [
  {
   "cell_type": "code",
   "execution_count": 2,
   "metadata": {},
   "outputs": [
    {
     "ename": "KeyboardInterrupt",
     "evalue": "",
     "output_type": "error",
     "traceback": [
      "\u001b[1;31m---------------------------------------------------------------------------\u001b[0m",
      "\u001b[1;31mKeyboardInterrupt\u001b[0m                         Traceback (most recent call last)",
      "Cell \u001b[1;32mIn[2], line 70\u001b[0m\n\u001b[0;32m     67\u001b[0m     sys\u001b[38;5;241m.\u001b[39mexit(app\u001b[38;5;241m.\u001b[39mexec_())\n\u001b[0;32m     69\u001b[0m \u001b[38;5;28;01mif\u001b[39;00m \u001b[38;5;18m__name__\u001b[39m \u001b[38;5;241m==\u001b[39m \u001b[38;5;124m\"\u001b[39m\u001b[38;5;124m__main__\u001b[39m\u001b[38;5;124m\"\u001b[39m:\n\u001b[1;32m---> 70\u001b[0m     \u001b[43mmain\u001b[49m\u001b[43m(\u001b[49m\u001b[43m)\u001b[49m\n",
      "Cell \u001b[1;32mIn[2], line 67\u001b[0m, in \u001b[0;36mmain\u001b[1;34m()\u001b[0m\n\u001b[0;32m     65\u001b[0m app \u001b[38;5;241m=\u001b[39m QApplication(sys\u001b[38;5;241m.\u001b[39margv)\n\u001b[0;32m     66\u001b[0m ex \u001b[38;5;241m=\u001b[39m FileUploadApp()\n\u001b[1;32m---> 67\u001b[0m sys\u001b[38;5;241m.\u001b[39mexit(\u001b[43mapp\u001b[49m\u001b[38;5;241;43m.\u001b[39;49m\u001b[43mexec_\u001b[49m\u001b[43m(\u001b[49m\u001b[43m)\u001b[49m)\n",
      "\u001b[1;31mKeyboardInterrupt\u001b[0m: "
     ]
    }
   ],
   "source": [
    "import sys\n",
    "from PyQt5.QtWidgets import QApplication, QWidget, QPushButton, QFileDialog, QVBoxLayout, QTableWidget, QTableWidgetItem, QLabel, QHBoxLayout\n",
    "from PyQt5.QtGui import QPixmap\n",
    "from PyQt5.QtCore import Qt\n",
    "\n",
    "class FileUploadApp(QWidget):\n",
    "    def __init__(self):\n",
    "        super().__init__()\n",
    "\n",
    "        self.initUI()\n",
    "\n",
    "    def initUI(self):\n",
    "        self.setWindowTitle('File Upload')\n",
    "        self.setGeometry(100, 100, 800, 600)  # Set initial window size\n",
    "        self.showFullScreen()  # Set window to fullscreen\n",
    "\n",
    "        self.btn_upload_shirt = QPushButton('Upload your Shirt photo', self)\n",
    "        self.btn_upload_shirt.clicked.connect(lambda: self.upload_file_dialog(\"shirt\"))\n",
    "\n",
    "        self.btn_upload_pant = QPushButton('Upload your Pant photo', self)\n",
    "        self.btn_upload_pant.clicked.connect(lambda: self.upload_file_dialog(\"pant\"))\n",
    "\n",
    "        self.table = QTableWidget()\n",
    "        self.table.setColumnCount(2)\n",
    "        self.table.setHorizontalHeaderLabels([\"Shirts\", \"Pants\"])\n",
    "\n",
    "        layout = QVBoxLayout()\n",
    "        layout.addWidget(self.btn_upload_shirt)\n",
    "        layout.addWidget(self.btn_upload_pant)\n",
    "        layout.addWidget(self.table)\n",
    "        self.setLayout(layout)\n",
    "\n",
    "    def upload_file_dialog(self, clothing_type):\n",
    "        file_dialog = QFileDialog()\n",
    "        file_dialog.setNameFilter(\"Images (*.png *.jpg *.jpeg)\")\n",
    "        file_dialog.setViewMode(QFileDialog.Detail)\n",
    "        \n",
    "        selected_files, _ = file_dialog.getOpenFileNames(self, f\"Upload your {clothing_type.capitalize()} photo\", \"\", \"Images (*.png *.jpg *.jpeg)\", options=QFileDialog.DontUseNativeDialog)\n",
    "\n",
    "        if selected_files:\n",
    "            # Limit the number of selected files to 5\n",
    "            selected_files = selected_files[:5]\n",
    "\n",
    "            for file_path in selected_files:\n",
    "                pixmap = QPixmap(file_path).scaled(224, 224, Qt.KeepAspectRatio)\n",
    "\n",
    "                # Create a QLabel to display the image\n",
    "                label = QLabel()\n",
    "                label.setPixmap(pixmap)\n",
    "\n",
    "                # Create a layout to hold the QLabel\n",
    "                layout = QHBoxLayout()\n",
    "                layout.addWidget(label)\n",
    "                layout.setAlignment(Qt.AlignCenter)\n",
    "\n",
    "                # Create a QTableWidgetItem to hold the layout\n",
    "                item = QTableWidgetItem()\n",
    "                item.setFlags(Qt.ItemIsEnabled)  # Make the item non-editable\n",
    "                self.table.setRowCount(self.table.rowCount() + 1)\n",
    "                self.table.setItem(self.table.rowCount() - 1, 0 if clothing_type == \"shirt\" else 1, item)\n",
    "                self.table.setCellWidget(self.table.rowCount() - 1, 0 if clothing_type == \"shirt\" else 1, label)\n",
    "                self.table.setRowHeight(self.table.rowCount() - 1, 224)\n",
    "\n",
    "def main():\n",
    "    app = QApplication(sys.argv)\n",
    "    ex = FileUploadApp()\n",
    "    sys.exit(app.exec_())\n",
    "\n",
    "if __name__ == \"__main__\":\n",
    "    main()\n"
   ]
  }
 ],
 "metadata": {
  "kernelspec": {
   "display_name": "Python 3",
   "language": "python",
   "name": "python3"
  },
  "language_info": {
   "codemirror_mode": {
    "name": "ipython",
    "version": 3
   },
   "file_extension": ".py",
   "mimetype": "text/x-python",
   "name": "python",
   "nbconvert_exporter": "python",
   "pygments_lexer": "ipython3",
   "version": "3.12.1"
  }
 },
 "nbformat": 4,
 "nbformat_minor": 2
}
